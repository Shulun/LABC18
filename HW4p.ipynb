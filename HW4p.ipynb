{
 "cells": [
  {
   "cell_type": "markdown",
   "metadata": {},
   "source": [
    "# Xuemei Chen HW4"
   ]
  },
  {
   "cell_type": "markdown",
   "metadata": {},
   "source": [
    "## Python A"
   ]
  },
  {
   "cell_type": "code",
   "execution_count": 18,
   "metadata": {
    "collapsed": true
   },
   "outputs": [],
   "source": [
    "import pandas as pd\n",
    "import numpy as np\n",
    "import random"
   ]
  },
  {
   "cell_type": "code",
   "execution_count": 2,
   "metadata": {
    "collapsed": true
   },
   "outputs": [],
   "source": [
    "path = \"./data/\""
   ]
  },
  {
   "cell_type": "code",
   "execution_count": 3,
   "metadata": {
    "collapsed": true
   },
   "outputs": [],
   "source": [
    "# this will extract the x and y column from the file\n",
    "def Extract_x_y(filename):\n",
    "    df = pd.read_csv(path + filename + '.txt', header = 0)  #first row is header\n",
    "    nrow = df.shape[0]  #number of data points\n",
    "    y = df['y'].values.reshape(nrow,1)\n",
    "    x = df['x'].values.reshape(nrow,1)\n",
    "    return x,y"
   ]
  },
  {
   "cell_type": "code",
   "execution_count": 4,
   "metadata": {
    "collapsed": true
   },
   "outputs": [],
   "source": [
    "def LSLF(filename):\n",
    "    x,y = Extract_x_y(filename)\n",
    "    A = np.hstack((np.ones([len(x),1]),x))  #Setting up Ax=y\n",
    "    LSS = np.linalg.solve(A.T@A, A.T@y) #compute the least squares solution\n",
    "    #returns intercept, slope, error\n",
    "    return LSS[0][0], LSS[1][0], sum((y-A@LSS)**2)[0]"
   ]
  },
  {
   "cell_type": "markdown",
   "metadata": {},
   "source": [
    "## Python B: test"
   ]
  },
  {
   "cell_type": "code",
   "execution_count": 5,
   "metadata": {
    "collapsed": true
   },
   "outputs": [],
   "source": [
    "%matplotlib inline\n",
    "import matplotlib.pyplot as plt"
   ]
  },
  {
   "cell_type": "code",
   "execution_count": 6,
   "metadata": {
    "collapsed": true
   },
   "outputs": [],
   "source": [
    "#write a function that will generate plots\n",
    "def PlotGenerator(filename):\n",
    "    \n",
    "    x,y = Extract_x_y(filename)\n",
    "    \n",
    "    plt.scatter(x,y)\n",
    "    xrange = max(x) - min(x)\n",
    "    xv = np.arange(min(x)-xrange/10,max(x)+xrange/10,0.05)\n",
    "    \n",
    "    b,m,_ = LSLF(filename)\n",
    "    plt.plot(xv, b+m*xv)\n",
    "    plt.title(filename)\n",
    "    plt.show()"
   ]
  },
  {
   "cell_type": "code",
   "execution_count": 7,
   "metadata": {},
   "outputs": [
    {
     "name": "stderr",
     "output_type": "stream",
     "text": [
      "/Users/xchen98/anaconda/envs/py36/lib/python3.6/site-packages/statsmodels/compat/pandas.py:56: FutureWarning: The pandas.core.datetools module is deprecated and will be removed in a future version. Please use the pandas.tseries module instead.\n",
      "  from pandas.core import datetools\n"
     ]
    }
   ],
   "source": [
    "import statsmodels.api as sm"
   ]
  },
  {
   "cell_type": "code",
   "execution_count": 8,
   "metadata": {
    "collapsed": true
   },
   "outputs": [],
   "source": [
    "#write a function that compares with python's statsmodels\n",
    "def CompareStats(filename):\n",
    "    x,y = Extract_x_y(filename)\n",
    "    x = sm.add_constant(x) #add intercept\n",
    "    model = sm.OLS(y,x)\n",
    "    results = model.fit()\n",
    "    print('The intercept and slope from statsmodels is',results.params,'.')\n",
    "    print('The intercept and slope from my own program is',LSLF(filename)[:2],'.')"
   ]
  },
  {
   "cell_type": "markdown",
   "metadata": {},
   "source": [
    "### There are obviously a lot of statistical functionality in the ols function, but we will not discuss them here."
   ]
  },
  {
   "cell_type": "markdown",
   "metadata": {},
   "source": [
    "### Test on TVlife"
   ]
  },
  {
   "cell_type": "code",
   "execution_count": 9,
   "metadata": {},
   "outputs": [
    {
     "data": {
      "image/png": "[encoded data removed]",
      "text/plain": [
       "<matplotlib.figure.Figure at 0x11b7f2400>"
      ]
     },
     "metadata": {},
     "output_type": "display_data"
    }
   ],
   "source": [
    "PlotGenerator('TVlife')"
   ]
  },
  {
   "cell_type": "markdown",
   "metadata": {},
   "source": [
    "####  It does not seem appropriate to assume a linear relationship."
   ]
  },
  {
   "cell_type": "code",
   "execution_count": 10,
   "metadata": {},
   "outputs": [
    {
     "name": "stdout",
     "output_type": "stream",
     "text": [
      "The intercept and slope from statsmodels is [  5.73368987e+01   3.24353736e-02] .\n",
      "The intercept and slope from my own program is (57.336898734818838, 0.032435373622846216) .\n"
     ]
    }
   ],
   "source": [
    "CompareStats('TVlife')"
   ]
  },
  {
   "cell_type": "markdown",
   "metadata": {},
   "source": [
    "### Test on population"
   ]
  },
  {
   "cell_type": "code",
   "execution_count": 11,
   "metadata": {},
   "outputs": [
    {
     "data": {
      "image/png": "[encoded data removed]",
      "text/plain": [
       "<matplotlib.figure.Figure at 0x11b845f60>"
      ]
     },
     "metadata": {},
     "output_type": "display_data"
    }
   ],
   "source": [
    "PlotGenerator('population')"
   ]
  },
  {
   "cell_type": "markdown",
   "metadata": {},
   "source": [
    "####  It seems appropriate to assume a linear relationship."
   ]
  },
  {
   "cell_type": "code",
   "execution_count": 12,
   "metadata": {},
   "outputs": [
    {
     "name": "stdout",
     "output_type": "stream",
     "text": [
      "The intercept and slope from statsmodels is [ -3.74076738e+09   2.00258709e+06] .\n",
      "The intercept and slope from my own program is (-3740767381.4605389, 2002587.0905133039) .\n"
     ]
    }
   ],
   "source": [
    "CompareStats('population')"
   ]
  },
  {
   "cell_type": "markdown",
   "metadata": {
    "collapsed": true
   },
   "source": [
    "### Test on nba"
   ]
  },
  {
   "cell_type": "code",
   "execution_count": 13,
   "metadata": {},
   "outputs": [
    {
     "data": {
      "image/png": "[encoded data removed]",
      "text/plain": [
       "<matplotlib.figure.Figure at 0x11f1b5748>"
      ]
     },
     "metadata": {},
     "output_type": "display_data"
    }
   ],
   "source": [
    "PlotGenerator('nba')"
   ]
  },
  {
   "cell_type": "markdown",
   "metadata": {},
   "source": [
    "####  It seems appropriate to assume a linear relationship."
   ]
  },
  {
   "cell_type": "code",
   "execution_count": 14,
   "metadata": {},
   "outputs": [
    {
     "name": "stdout",
     "output_type": "stream",
     "text": [
      "The intercept and slope from statsmodels is [ 0.50003333  0.03210729] .\n",
      "The intercept and slope from my own program is (0.50003333333333333, 0.032107292591119135) .\n"
     ]
    }
   ],
   "source": [
    "CompareStats('nba')"
   ]
  },
  {
   "cell_type": "markdown",
   "metadata": {},
   "source": [
    "## Python C"
   ]
  },
  {
   "cell_type": "markdown",
   "metadata": {},
   "source": [
    "### (a) Rewrite loss function in matrix form\n",
    "\n",
    "Let $X=\\begin{bmatrix}x_{11}&\\cdots&x_{1,n-1}\\\\\n",
    "\\vdots&&\\vdots\\\\\n",
    "x_{m1}&\\cdots&x_{m,n-1}\\end{bmatrix}$ be the $m\\times(n-1)$ data matrix with all the $x$ variables. Let $A=[1,X]$ be the $m\\times n$ matrix where '1' is a whole column of 1's.\n",
    "\n",
    "This way, the $i$th coordinate of $y-Aw$ is exactly $y_i-w_0-\\sum_{j=1}^{n-1}w_jx_{ij}$, so\n",
    "\n",
    "$L(w)=\\sum_{i=1}^m(y_i-w_0-\\sum_{j=1}^{n-1}w_ix_{ij})^2=\\|Aw-y\\|^2$"
   ]
  },
  {
   "cell_type": "markdown",
   "metadata": {},
   "source": [
    "### (b)"
   ]
  },
  {
   "cell_type": "code",
   "execution_count": 1,
   "metadata": {
    "collapsed": true
   },
   "outputs": [],
   "source": [
    "#parameters:\n",
    "#df is a data frame whose first n-1 columns are x_1,...,x_{n-1}, last column is y\n",
    "#r is the ratio of training\n",
    "\n",
    "#returns:\n",
    "#w is the weights\n",
    "#loss on testing data\n",
    "def MyReg(df, r):\n",
    "    m,n = df.shape\n",
    "    mt = np.floor(r*m).astype(int) #number of training data\n",
    "    # create a random set of indices whose cardinality is mt\n",
    "    tnIdx = random.sample(range(m),mt)\n",
    "    \n",
    "    #testing data index\n",
    "    tsIdx = list(set(range(m)) - set(tnIdx))\n",
    "    \n",
    "    #get training data\n",
    "    Xtn = df.iloc[tnIdx,:n-1].values\n",
    "    ytn = df.iloc[tnIdx,-1].values\n",
    "    \n",
    "    #get test data\n",
    "    Xts = df.iloc[tsIdx,:n-1].values\n",
    "    yts = df.iloc[tsIdx,-1].values\n",
    "    \n",
    "    #get weights using training data\n",
    "    A = np.hstack((np.ones([mt,1]), Xtn))\n",
    "    w = np.linalg.solve(A.T@A, A.T@ytn)\n",
    "    \n",
    "    #computing loss on testing data\n",
    "    Ats = np.hstack((np.ones([m-mt,1]), Xts))\n",
    "    L = np.linalg.norm(Ats@w - yts)\n",
    "    return w, L**2"
   ]
  },
  {
   "cell_type": "code",
   "execution_count": 27,
   "metadata": {
    "collapsed": true
   },
   "outputs": [],
   "source": [
    "nbadf = pd.read_csv(path + 'nba.txt', header = 0) "
   ]
  },
  {
   "cell_type": "code",
   "execution_count": 28,
   "metadata": {},
   "outputs": [
    {
     "name": "stdout",
     "output_type": "stream",
     "text": [
      "                      Team  Games  Wins  Losses  WinPct  turnovers    pts  \\\n",
      "0            Atlanta Hawks     82    38      44   0.463       15.3  101.0   \n",
      "1           Boston Celtics     82    25      57   0.305       15.4   96.2   \n",
      "2            Brooklyn Nets     82    44      38   0.537       14.5   98.5   \n",
      "3        Charlotte Bobcats     82    43      39   0.524       12.3   96.9   \n",
      "4            Chicago Bulls     82    48      34   0.585       14.9   93.7   \n",
      "5      Cleveland Cavaliers     82    33      49   0.402       14.2   98.2   \n",
      "6         Dallas Mavericks     82    49      33   0.598       13.5  104.8   \n",
      "7           Denver Nuggets     82    36      46   0.439       15.9  104.4   \n",
      "8          Detroit Pistons     82    29      53   0.354       14.5  101.0   \n",
      "9    Golden State Warriors     82    51      31   0.622       15.2  104.3   \n",
      "10         Houston Rockets     82    54      28   0.659       16.1  107.7   \n",
      "11          Indiana Pacers     82    56      26   0.683       15.1   96.7   \n",
      "12    Los Angeles Clippers     82    57      25   0.695       13.9  107.9   \n",
      "13      Los Angeles Lakers     82    27      55   0.329       15.1  103.0   \n",
      "14       Memphis Grizzlies     82    50      32   0.610       13.7   96.1   \n",
      "15              Miami Heat     82    54      28   0.659       14.8  102.2   \n",
      "16         Milwaukee Bucks     82    15      67   0.183       15.1   95.5   \n",
      "17  Minnesota Timberwolves     82    40      42   0.488       13.9  106.9   \n",
      "18    New Orleans Pelicans     82    34      48   0.415       13.8   99.7   \n",
      "19         New York Knicks     82    37      45   0.451       13.0   98.6   \n",
      "20   Oklahoma City Thunder     82    59      23   0.720       15.3  106.2   \n",
      "21           Orlando Magic     82    23      59   0.280       14.9   96.5   \n",
      "22      Philadelphia 76ers     82    19      63   0.232       16.9   99.5   \n",
      "23            Phoenix Suns     82    48      34   0.585       15.3  105.2   \n",
      "24  Portland Trail Blazers     82    54      28   0.659       13.7  106.7   \n",
      "25        Sacramento Kings     82    28      54   0.341       15.2  100.5   \n",
      "26       San Antonio Spurs     82    62      20   0.756       14.4  105.4   \n",
      "27         Toronto Raptors     82    48      34   0.585       14.1  101.3   \n",
      "28               Utah Jazz     82    25      57   0.305       14.6   95.0   \n",
      "29      Washington Wizards     82    44      38   0.537       14.7  100.7   \n",
      "\n",
      "      PM     x      y  \n",
      "0   -0.5  -0.5  0.463  \n",
      "1   -4.5  -4.5  0.305  \n",
      "2   -1.0  -1.0  0.537  \n",
      "3   -0.2  -0.2  0.524  \n",
      "4    1.9   1.9  0.585  \n",
      "5   -3.3  -3.3  0.402  \n",
      "6    2.4   2.4  0.598  \n",
      "7   -2.1  -2.1  0.439  \n",
      "8   -3.7  -3.7  0.354  \n",
      "9    4.8   4.8  0.622  \n",
      "10   4.6   4.6  0.659  \n",
      "11   4.4   4.4  0.683  \n",
      "12   7.0   7.0  0.695  \n",
      "13  -6.3  -6.3  0.329  \n",
      "14   1.6   1.6  0.610  \n",
      "15   4.8   4.8  0.659  \n",
      "16  -8.2  -8.2  0.183  \n",
      "17   2.7   2.7  0.488  \n",
      "18  -2.7  -2.7  0.415  \n",
      "19  -0.8  -0.8  0.451  \n",
      "20   6.3   6.3  0.720  \n",
      "21  -5.4  -5.4  0.280  \n",
      "22 -10.5 -10.5  0.232  \n",
      "23   2.6   2.6  0.585  \n",
      "24   4.0   4.0  0.659  \n",
      "25  -2.9  -2.9  0.341  \n",
      "26   7.7   7.7  0.756  \n",
      "27   3.2   3.2  0.585  \n",
      "28  -7.2  -7.2  0.305  \n",
      "29   1.3   1.3  0.537  \n"
     ]
    }
   ],
   "source": [
    "print(nbadf)"
   ]
  },
  {
   "cell_type": "code",
   "execution_count": 32,
   "metadata": {},
   "outputs": [
    {
     "name": "stdout",
     "output_type": "stream",
     "text": [
      "    turnovers    pts    PM  WinPct\n",
      "0        15.3  101.0  -0.5   0.463\n",
      "1        15.4   96.2  -4.5   0.305\n",
      "2        14.5   98.5  -1.0   0.537\n",
      "3        12.3   96.9  -0.2   0.524\n",
      "4        14.9   93.7   1.9   0.585\n",
      "5        14.2   98.2  -3.3   0.402\n",
      "6        13.5  104.8   2.4   0.598\n",
      "7        15.9  104.4  -2.1   0.439\n",
      "8        14.5  101.0  -3.7   0.354\n",
      "9        15.2  104.3   4.8   0.622\n",
      "10       16.1  107.7   4.6   0.659\n",
      "11       15.1   96.7   4.4   0.683\n",
      "12       13.9  107.9   7.0   0.695\n",
      "13       15.1  103.0  -6.3   0.329\n",
      "14       13.7   96.1   1.6   0.610\n",
      "15       14.8  102.2   4.8   0.659\n",
      "16       15.1   95.5  -8.2   0.183\n",
      "17       13.9  106.9   2.7   0.488\n",
      "18       13.8   99.7  -2.7   0.415\n",
      "19       13.0   98.6  -0.8   0.451\n",
      "20       15.3  106.2   6.3   0.720\n",
      "21       14.9   96.5  -5.4   0.280\n",
      "22       16.9   99.5 -10.5   0.232\n",
      "23       15.3  105.2   2.6   0.585\n",
      "24       13.7  106.7   4.0   0.659\n",
      "25       15.2  100.5  -2.9   0.341\n",
      "26       14.4  105.4   7.7   0.756\n",
      "27       14.1  101.3   3.2   0.585\n",
      "28       14.6   95.0  -7.2   0.305\n",
      "29       14.7  100.7   1.3   0.537\n"
     ]
    }
   ],
   "source": [
    "#take the 4 columns that needs to be processed\n",
    "newdf = nbadf[['turnovers','pts','PM','WinPct']];print(newdf)"
   ]
  },
  {
   "cell_type": "code",
   "execution_count": 60,
   "metadata": {},
   "outputs": [
    {
     "data": {
      "text/plain": [
       "(array([ 1.50554432, -0.0864635 ,  0.00320366,  0.03937743]),\n",
       " 0.46226651047364326)"
      ]
     },
     "execution_count": 60,
     "metadata": {},
     "output_type": "execute_result"
    }
   ],
   "source": [
    "MyReg(newdf,0.1)"
   ]
  },
  {
   "cell_type": "code",
   "execution_count": 61,
   "metadata": {},
   "outputs": [
    {
     "data": {
      "text/plain": [
       "(array([ 1.12211614,  0.02210104, -0.00922441,  0.0369331 ]),\n",
       " 0.065400550091515658)"
      ]
     },
     "execution_count": 61,
     "metadata": {},
     "output_type": "execute_result"
    }
   ],
   "source": [
    "MyReg(newdf,0.2)"
   ]
  },
  {
   "cell_type": "code",
   "execution_count": 62,
   "metadata": {},
   "outputs": [
    {
     "data": {
      "text/plain": [
       "(array([ 1.06383786, -0.01441644, -0.00355908,  0.0401019 ]),\n",
       " 0.077855591387594833)"
      ]
     },
     "execution_count": 62,
     "metadata": {},
     "output_type": "execute_result"
    }
   ],
   "source": [
    "MyReg(newdf,0.3)"
   ]
  },
  {
   "cell_type": "markdown",
   "metadata": {},
   "source": [
    "### (c) Plot"
   ]
  },
  {
   "cell_type": "code",
   "execution_count": 71,
   "metadata": {},
   "outputs": [
    {
     "data": {
      "image/png": "[encoded data removed]",
      "text/plain": [
       "<matplotlib.figure.Figure at 0x1208699b0>"
      ]
     },
     "metadata": {},
     "output_type": "display_data"
    }
   ],
   "source": [
    "R = np.arange(0.1,1.1,0.1)\n",
    "Loss = np.zeros(len(R))\n",
    "for i in range(len(R)):\n",
    "    Loss[i] = MyReg(newdf,R[i])[1]\n",
    "plt.plot(R,Loss)\n",
    "plt.show()"
   ]
  },
  {
   "cell_type": "markdown",
   "metadata": {
    "collapsed": true
   },
   "source": [
    "Due to randomness, you may get very different plots, but it should be decreasing overall."
   ]
  }
 ],
 "metadata": {
  "kernelspec": {
   "display_name": "Python 3",
   "language": "python",
   "name": "python3"
  },
  "language_info": {
   "codemirror_mode": {
    "name": "ipython",
    "version": 3
   },
   "file_extension": ".py",
   "mimetype": "text/x-python",
   "name": "python",
   "nbconvert_exporter": "python",
   "pygments_lexer": "ipython3",
   "version": "3.6.5"
  }
 },
 "nbformat": 4,
 "nbformat_minor": 2
}

{
 "cells": [
  {
   "cell_type": "markdown",
   "metadata": {
    "collapsed": true
   },
   "source": [
    "# Xuemei Chen HW2"
   ]
  },
  {
   "cell_type": "markdown",
   "metadata": {},
   "source": [
    "## Problem A"
   ]
  },
  {
   "cell_type": "code",
   "execution_count": 2,
   "metadata": {
    "collapsed": true
   },
   "outputs": [],
   "source": [
    "import numpy as np"
   ]
  },
  {
   "cell_type": "code",
   "execution_count": 3,
   "metadata": {
    "collapsed": true
   },
   "outputs": [],
   "source": [
    "# return the REF of any m by n matrix A\n",
    "def REF(A):\n",
    "    m, n = A.shape\n",
    "    RowInd = 0  # this keeps track of how many columns are skipped, or the difference between col and row idx\n",
    "    for j in range(n): #at column j\n",
    "        if np.allclose(A[j-RowInd:,j],np.zeros(m-j+RowInd)) == 1: #if that column is zero column\n",
    "            RowInd = RowInd + 1             \n",
    "        if np.allclose(A[j-RowInd:,j],np.zeros(m-j+RowInd)) == 0:  # if that column is not zero column \n",
    "            Idx = np.where(A[j-RowInd:,j]!=0)[0][0] + j-RowInd # row index of the pivot\n",
    "            if Idx != j - RowInd: # perform a swap\n",
    "                temp = np.copy(A[Idx,:])\n",
    "                A[Idx,:] = A[j-RowInd,:]\n",
    "                A[j-RowInd,:] = temp\n",
    "                \n",
    "            for i in range(j-RowInd+1, m): # perform elimination\n",
    "                c = A[i,j]/A[j-RowInd,j]\n",
    "                A[i,j:] = -c * A[j-RowInd,j:] + A[i,j:]\n",
    "            #print(A)    \n",
    "    return A        "
   ]
  },
  {
   "cell_type": "markdown",
   "metadata": {},
   "source": [
    "(a) Test on HW1-7"
   ]
  },
  {
   "cell_type": "code",
   "execution_count": 4,
   "metadata": {},
   "outputs": [
    {
     "name": "stdout",
     "output_type": "stream",
     "text": [
      "[[ 2  2  2]\n",
      " [-2  5  2]\n",
      " [ 8  1  4]]\n"
     ]
    }
   ],
   "source": [
    "A = np.array([[2,2,2],[-2,5,2],[8,1,4]]); print(A)"
   ]
  },
  {
   "cell_type": "code",
   "execution_count": 5,
   "metadata": {},
   "outputs": [
    {
     "data": {
      "text/plain": [
       "array([[2, 2, 2],\n",
       "       [0, 7, 4],\n",
       "       [0, 0, 0]])"
      ]
     },
     "execution_count": 5,
     "metadata": {},
     "output_type": "execute_result"
    }
   ],
   "source": [
    "REF(A)\n",
    "# for REF_basic, there should be an error"
   ]
  },
  {
   "cell_type": "markdown",
   "metadata": {},
   "source": [
    "(b) Test on "
   ]
  },
  {
   "cell_type": "code",
   "execution_count": 6,
   "metadata": {
    "collapsed": true
   },
   "outputs": [],
   "source": [
    "C = np.array([[1,2,3,4,6], [1,2, 5, 2,-2], [1, 1, 5, 5,1], [1, 4, 1, 5, 0]])"
   ]
  },
  {
   "cell_type": "code",
   "execution_count": 7,
   "metadata": {},
   "outputs": [
    {
     "data": {
      "text/plain": [
       "array([[ 1,  2,  3,  4,  6],\n",
       "       [ 0, -1,  2,  1, -5],\n",
       "       [ 0,  0,  2, -2, -8],\n",
       "       [ 0,  0,  0,  5, -8]])"
      ]
     },
     "execution_count": 7,
     "metadata": {},
     "output_type": "execute_result"
    }
   ],
   "source": [
    "REF(C)"
   ]
  },
  {
   "cell_type": "markdown",
   "metadata": {},
   "source": [
    "## Problem B"
   ]
  },
  {
   "cell_type": "markdown",
   "metadata": {},
   "source": [
    "Copy my BackSub from HW1"
   ]
  },
  {
   "cell_type": "code",
   "execution_count": 8,
   "metadata": {
    "collapsed": true
   },
   "outputs": [],
   "source": [
    "# solve Ax=b where A is upper triangular and invertible\n",
    "def BackSub(A,b):\n",
    "    m, n = A.shape\n",
    "    l = len(b)\n",
    "    if m!=n:\n",
    "        raise ValueError('The matrix needs to be square')\n",
    "    if m!=l:\n",
    "        raise ValueError('Dimensions of A and b do not match.')\n",
    "    if np.allclose(A, np.triu(A)) == 0: #if not upper triangular\n",
    "        raise ValueError('A is not upper triangular')\n",
    "    \n",
    "    x = np.zeros(n)\n",
    "    for i in range(n-1,-1,-1): #solve backwards\n",
    "        if A[i,i] == 0:\n",
    "            raise ValueError('Your A is not invertible.')\n",
    "        x[i] = (b[i] - np.sum(x[i+1:]*A[i,i+1:]))/A[i,i]\n",
    "    return x"
   ]
  },
  {
   "cell_type": "code",
   "execution_count": 9,
   "metadata": {
    "collapsed": true
   },
   "outputs": [],
   "source": [
    "# Solve Ax=b when $A$ is invertible\n",
    "def MySolve(A,b):\n",
    "    m,n = A.shape\n",
    "    Reduced = REF(np.hstack((A,b.reshape(n,1)))) \n",
    "    return BackSub(Reduced[:,:n], Reduced[:,-1])"
   ]
  },
  {
   "cell_type": "markdown",
   "metadata": {},
   "source": [
    "Some tests"
   ]
  },
  {
   "cell_type": "code",
   "execution_count": 10,
   "metadata": {
    "collapsed": true
   },
   "outputs": [],
   "source": [
    "n = 5\n",
    "A = np.random.randn(n,n)\n",
    "b = np.random.randn(n)"
   ]
  },
  {
   "cell_type": "code",
   "execution_count": 11,
   "metadata": {},
   "outputs": [
    {
     "data": {
      "text/plain": [
       "True"
      ]
     },
     "execution_count": 11,
     "metadata": {},
     "output_type": "execute_result"
    }
   ],
   "source": [
    "np.allclose(MySolve(A,b).reshape(n), np.linalg.solve(A,b).reshape(n))"
   ]
  },
  {
   "cell_type": "markdown",
   "metadata": {},
   "source": [
    "## Problem C\n",
    "\n",
    "Lets computationally test the complexity of your MySolve(A, b).  Do so by doing 10 runs of random matrices of size $2^k$, for $k =0,...,10$. Let $T_k$ = average time for a matrix of size $2^k$. Plot the $\\log_2(T_k)$ against $k$.  How can we tell the leading order complexity from this plot, i.e. why does this plot show exactly that?"
   ]
  },
  {
   "cell_type": "code",
   "execution_count": 12,
   "metadata": {
    "collapsed": true
   },
   "outputs": [],
   "source": [
    "import timeit\n",
    "from tqdm import tqdm  #pip install tqdm"
   ]
  },
  {
   "cell_type": "code",
   "execution_count": 23,
   "metadata": {},
   "outputs": [
    {
     "name": "stderr",
     "output_type": "stream",
     "text": [
      "\n",
      "  0%|          | 0/11 [00:00<?, ?it/s]\u001b[A\n",
      " 64%|██████▎   | 7/11 [00:00<00:00, 35.38it/s]\u001b[A\n",
      " 82%|████████▏ | 9/11 [00:01<00:00,  5.77it/s]\u001b[A\n",
      " 91%|█████████ | 10/11 [00:05<00:00,  1.74it/s]\u001b[A\n",
      "100%|██████████| 11/11 [00:24<00:00,  2.25s/it]\u001b[A\n",
      "\u001b[A"
     ]
    },
    {
     "name": "stdout",
     "output_type": "stream",
     "text": [
      "24.74757091095671\n"
     ]
    }
   ],
   "source": [
    "main_s = timeit.default_timer()\n",
    "nk = 11 # k = 0,...,10\n",
    "ni = 7\n",
    "Tm = np.zeros([nk,ni])\n",
    "for k in tqdm(range(nk)):\n",
    "    for i in range(ni):\n",
    "        \n",
    "        A = np.random.randn(2**k, 2**k)\n",
    "        b = np.random.randn(2**k)\n",
    "        start = timeit.default_timer()   \n",
    "        MySolve(A,b)                 #only measure MySolve\n",
    "        #np.linalg.solve(A,b)\n",
    "        stop = timeit.default_timer()\n",
    "        Tm[k,i] = stop - start\n",
    "main_e = timeit.default_timer()\n",
    "print(main_e - main_s)"
   ]
  },
  {
   "cell_type": "code",
   "execution_count": 25,
   "metadata": {},
   "outputs": [
    {
     "data": {
      "image/png": "[encoded data removed]",
      "text/plain": [
       "<matplotlib.figure.Figure at 0x10f89c588>"
      ]
     },
     "metadata": {},
     "output_type": "display_data"
    }
   ],
   "source": [
    "import matplotlib.pyplot as plt\n",
    "m,b = np.polyfit(np.arange(2,nk), np.log2(np.mean(Tm, axis=1))[2:],1) # find the slope by polyfit. \n",
    "x = np.arange(2,nk)\n",
    "plt.plot(x, np.log2(np.mean(Tm, axis=1))[2:],'k',x,m*x+b,'b')\n",
    "\n",
    "plt.show()"
   ]
  },
  {
   "cell_type": "code",
   "execution_count": 26,
   "metadata": {},
   "outputs": [
    {
     "data": {
      "text/plain": [
       "1.4559168070180577"
      ]
     },
     "execution_count": 26,
     "metadata": {},
     "output_type": "execute_result"
    }
   ],
   "source": [
    "m"
   ]
  },
  {
   "cell_type": "markdown",
   "metadata": {},
   "source": [
    "### Reasoning\n",
    "\n",
    "If run time is $cn^d$, where $n=2^k$, then $\\log_2(cn^d)=\\log_2(c)+\\log_2(2^{kd})=constant + dk$. So the slope of the plot is $d$ in $O(n^d)$\n",
    "\n",
    "Therefore the complexity is about $O(n^{1.5})$ according to this plot.\n",
    "\n",
    "However, it is well known that Gaussian Elimination takes $O(n^3)$. Why do I have 1.5? It is usually due to inaccuracy for relatively small $n$. I will redo Problem C below for k all the way to 14."
   ]
  },
  {
   "cell_type": "code",
   "execution_count": 16,
   "metadata": {},
   "outputs": [
    {
     "name": "stderr",
     "output_type": "stream",
     "text": [
      "100%|██████████| 15/15 [10:43<00:00, 42.92s/it]"
     ]
    },
    {
     "name": "stdout",
     "output_type": "stream",
     "text": [
      "643.7682242520386\n"
     ]
    },
    {
     "name": "stderr",
     "output_type": "stream",
     "text": [
      "\n"
     ]
    }
   ],
   "source": [
    "main_s = timeit.default_timer()\n",
    "nk = 15 # k = 0,...,14\n",
    "ni = 7\n",
    "T = np.zeros([nk,ni])\n",
    "for k in tqdm(range(nk)):\n",
    "    for i in range(ni):\n",
    "        \n",
    "        A = np.random.randn(2**k, 2**k)\n",
    "        b = np.random.randn(2**k)\n",
    "        start = timeit.default_timer()   \n",
    "        #MySolve(A,b)                 #only measure MySolve\n",
    "        np.linalg.solve(A,b)\n",
    "        stop = timeit.default_timer()\n",
    "        T[k,i] = stop - start\n",
    "main_e = timeit.default_timer()\n",
    "print(main_e - main_s)"
   ]
  },
  {
   "cell_type": "code",
   "execution_count": 19,
   "metadata": {},
   "outputs": [
    {
     "data": {
      "image/png": "[encoded data removed]",
      "text/plain": [
       "<matplotlib.figure.Figure at 0x10f8a72e8>"
      ]
     },
     "metadata": {},
     "output_type": "display_data"
    }
   ],
   "source": [
    "import matplotlib.pyplot as plt\n",
    "m,b = np.polyfit(np.arange(8,nk), np.log2(np.mean(T, axis=1))[8:],1) # find the slope by polyfit. \n",
    "x = np.arange(8,nk)\n",
    "plt.plot(x, np.log2(np.mean(T, axis=1))[8:],'k',x,m*x+b,'b')\n",
    "\n",
    "plt.show()"
   ]
  },
  {
   "cell_type": "code",
   "execution_count": 20,
   "metadata": {},
   "outputs": [
    {
     "data": {
      "text/plain": [
       "2.713311269172956"
      ]
     },
     "execution_count": 20,
     "metadata": {},
     "output_type": "execute_result"
    }
   ],
   "source": [
    "# slope of the above plot\n",
    "m"
   ]
  },
  {
   "cell_type": "markdown",
   "metadata": {},
   "source": [
    "This is behaving like $O(n^3)$."
   ]
  },
  {
   "cell_type": "code",
   "execution_count": null,
   "metadata": {
    "collapsed": true
   },
   "outputs": [],
   "source": []
  }
 ],
 "metadata": {
  "kernelspec": {
   "display_name": "Python 3",
   "language": "python",
   "name": "python3"
  }
 },
 "nbformat": 4,
 "nbformat_minor": 2
}

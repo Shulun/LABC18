{
 "cells": [
  {
   "cell_type": "markdown",
   "metadata": {},
   "source": [
    "# Some remarks after week 1"
   ]
  },
  {
   "cell_type": "markdown",
   "metadata": {},
   "source": [
    "## numpy"
   ]
  },
  {
   "cell_type": "code",
   "execution_count": 1,
   "metadata": {
    "collapsed": true
   },
   "outputs": [],
   "source": [
    "# easy multiplication\n",
    "import numpy as np"
   ]
  },
  {
   "cell_type": "code",
   "execution_count": 4,
   "metadata": {},
   "outputs": [
    {
     "data": {
      "text/plain": [
       "array([[ 5.,  5.,  5.,  5.,  5.],\n",
       "       [ 5.,  5.,  5.,  5.,  5.],\n",
       "       [ 5.,  5.,  5.,  5.,  5.],\n",
       "       [ 5.,  5.,  5.,  5.,  5.],\n",
       "       [ 5.,  5.,  5.,  5.,  5.]])"
      ]
     },
     "execution_count": 4,
     "metadata": {},
     "output_type": "execute_result"
    }
   ],
   "source": [
    "A = np.ones([5,5])\n",
    "B = np.ones([5,5])\n",
    "A@B"
   ]
  },
  {
   "cell_type": "markdown",
   "metadata": {},
   "source": [
    "## Latex\n",
    "\n",
    "$2^3$"
   ]
  },
  {
   "cell_type": "markdown",
   "metadata": {},
   "source": [
    "## Using unnecessary for loop will increase run time\n",
    "\n",
    "This is because numpy uses SIMD. See\n",
    "\n",
    "https://docs.scipy.org/doc/numpy/release.html\n",
    "\n",
    "https://en.wikipedia.org/wiki/SIMD"
   ]
  },
  {
   "cell_type": "code",
   "execution_count": 5,
   "metadata": {
    "collapsed": true
   },
   "outputs": [],
   "source": [
    "def BadDotProduct(x,y):\n",
    "    dp = 0\n",
    "    for i in range(len(x)):\n",
    "        dp += x[i]*y[i]\n",
    "    return dp"
   ]
  },
  {
   "cell_type": "code",
   "execution_count": 6,
   "metadata": {
    "collapsed": true
   },
   "outputs": [],
   "source": [
    "def GoodDotProduct(x,y):\n",
    "    return sum(x*y)"
   ]
  },
  {
   "cell_type": "code",
   "execution_count": 7,
   "metadata": {
    "collapsed": true
   },
   "outputs": [],
   "source": [
    "n = 1000\n",
    "x = np.random.randn(n)\n",
    "y = np.random.rand(n)"
   ]
  },
  {
   "cell_type": "code",
   "execution_count": 8,
   "metadata": {
    "collapsed": true
   },
   "outputs": [],
   "source": [
    "import timeit"
   ]
  },
  {
   "cell_type": "code",
   "execution_count": 10,
   "metadata": {},
   "outputs": [
    {
     "name": "stdout",
     "output_type": "stream",
     "text": [
      "CPU times: user 239 µs, sys: 21 µs, total: 260 µs\n",
      "Wall time: 254 µs\n",
      "CPU times: user 751 µs, sys: 2 µs, total: 753 µs\n",
      "Wall time: 764 µs\n"
     ]
    },
    {
     "data": {
      "text/plain": [
       "25.924448280734715"
      ]
     },
     "execution_count": 10,
     "metadata": {},
     "output_type": "execute_result"
    }
   ],
   "source": [
    "%time GoodDotProduct(x,y)\n",
    "%time BadDotProduct(x,y)"
   ]
  },
  {
   "cell_type": "markdown",
   "metadata": {},
   "source": [
    "## GloVe: Global Vectors for Word Representation\n",
    "\n",
    "https://nlp.stanford.edu/projects/glove/"
   ]
  },
  {
   "cell_type": "markdown",
   "metadata": {},
   "source": [
    "I am downloading pretrained data (glove_50_glove_100.tgz) from fast.ai (100d)\n",
    "\n",
    "http://files.fast.ai/models/"
   ]
  },
  {
   "cell_type": "code",
   "execution_count": 11,
   "metadata": {
    "collapsed": true
   },
   "outputs": [],
   "source": [
    "import json"
   ]
  },
  {
   "cell_type": "code",
   "execution_count": 12,
   "metadata": {
    "collapsed": true
   },
   "outputs": [],
   "source": [
    "path = \"./data/\""
   ]
  },
  {
   "cell_type": "code",
   "execution_count": 13,
   "metadata": {
    "collapsed": true
   },
   "outputs": [],
   "source": [
    "vecs = np.load(path + \"glove_vectors_100d.npy\")"
   ]
  },
  {
   "cell_type": "code",
   "execution_count": 14,
   "metadata": {
    "collapsed": true
   },
   "outputs": [],
   "source": [
    "with open(path + \"words.txt\") as f:\n",
    "    content = f.readlines()\n",
    "words = [x.strip() for x in content] "
   ]
  },
  {
   "cell_type": "code",
   "execution_count": 15,
   "metadata": {
    "collapsed": true
   },
   "outputs": [],
   "source": [
    "wordidx = json.load(open(path + \"wordsidx.txt\"))"
   ]
  },
  {
   "cell_type": "markdown",
   "metadata": {},
   "source": [
    "words has all the words"
   ]
  },
  {
   "cell_type": "code",
   "execution_count": 16,
   "metadata": {},
   "outputs": [
    {
     "data": {
      "text/plain": [
       "400000"
      ]
     },
     "execution_count": 16,
     "metadata": {},
     "output_type": "execute_result"
    }
   ],
   "source": [
    "len(words)"
   ]
  },
  {
   "cell_type": "code",
   "execution_count": 17,
   "metadata": {},
   "outputs": [
    {
     "data": {
      "text/plain": [
       "['the', ',', '.', 'of', 'to', 'and', 'in', 'a', '\"', \"'s\"]"
      ]
     },
     "execution_count": 17,
     "metadata": {},
     "output_type": "execute_result"
    }
   ],
   "source": [
    "words[:10]"
   ]
  },
  {
   "cell_type": "code",
   "execution_count": 18,
   "metadata": {},
   "outputs": [
    {
     "data": {
      "text/plain": [
       "['working',\n",
       " 'community',\n",
       " 'eight',\n",
       " 'groups',\n",
       " 'despite',\n",
       " 'level',\n",
       " 'largest',\n",
       " 'whose',\n",
       " 'attacks',\n",
       " 'germany']"
      ]
     },
     "execution_count": 18,
     "metadata": {},
     "output_type": "execute_result"
    }
   ],
   "source": [
    "words[500:510]"
   ]
  },
  {
   "cell_type": "markdown",
   "metadata": {},
   "source": [
    "wordidx allows us to look up a word in order to find out its index:"
   ]
  },
  {
   "cell_type": "code",
   "execution_count": 19,
   "metadata": {},
   "outputs": [
    {
     "data": {
      "text/plain": [
       "1751"
      ]
     },
     "execution_count": 19,
     "metadata": {},
     "output_type": "execute_result"
    }
   ],
   "source": [
    "wordidx['happy']"
   ]
  },
  {
   "cell_type": "code",
   "execution_count": 20,
   "metadata": {},
   "outputs": [
    {
     "data": {
      "text/plain": [
       "array([-0.090436  ,  0.19636001,  0.29473999, -0.47705999, -0.80435997,\n",
       "        0.30779999, -0.55204999,  0.58453   , -0.17056   , -0.84846002,\n",
       "        0.19528   ,  0.23671   ,  0.46827   , -0.58977002, -0.12163   ,\n",
       "       -0.24697   , -0.072944  ,  0.17259   , -0.0485    ,  0.95270002,\n",
       "        0.50629002,  0.58497   , -0.19367   , -0.45458999, -0.031095  ,\n",
       "        0.51633   , -0.24052   , -0.1007    ,  0.53627002,  0.024225  ,\n",
       "       -0.50161999,  0.73692   ,  0.49467999, -0.34744   ,  0.89336997,\n",
       "        0.057439  , -0.19126999,  0.39333001,  0.21182001, -0.89837003,\n",
       "        0.078704  , -0.16344   ,  0.45260999, -0.41095999, -0.19498999,\n",
       "       -0.13489   , -0.016313  , -0.021849  ,  0.17136   , -1.24129999,\n",
       "        0.079503  , -0.91144001,  0.35699001,  0.36289001, -0.24934   ,\n",
       "       -2.11960006,  0.14534   ,  0.52964002,  0.90134001,  0.033603  ,\n",
       "        0.022809  ,  0.70625001, -1.03620005, -0.59808999,  0.70591998,\n",
       "       -0.072793  ,  0.67032999,  0.52762997, -0.47806999, -0.67374003,\n",
       "        0.36632001, -0.38284001, -0.10349   , -0.64020002,  0.18104   ,\n",
       "        0.82568002,  0.066403  , -0.40790999, -0.083813  , -0.36487001,\n",
       "        0.045362  , -0.073527  , -0.20117   ,  0.37441   , -1.40240002,\n",
       "       -0.25604999, -0.47080001, -0.16145   , -0.87921   , -0.36324999,\n",
       "       -0.17357001, -0.077983  ,  0.43272999,  0.0089295 , -1.0316    ,\n",
       "       -0.11589   , -0.34524   ,  0.11514   , -0.40812001,  0.20203   ], dtype=float32)"
      ]
     },
     "execution_count": 20,
     "metadata": {},
     "output_type": "execute_result"
    }
   ],
   "source": [
    "vecs[1751]"
   ]
  },
  {
   "cell_type": "code",
   "execution_count": 21,
   "metadata": {},
   "outputs": [
    {
     "data": {
      "text/plain": [
       "5.2950091"
      ]
     },
     "execution_count": 21,
     "metadata": {},
     "output_type": "execute_result"
    }
   ],
   "source": [
    "np.linalg.norm(vecs[1751])"
   ]
  },
  {
   "cell_type": "code",
   "execution_count": 22,
   "metadata": {},
   "outputs": [
    {
     "data": {
      "text/plain": [
       "array([ 0.24934   ,  0.68317997, -0.044711  , -1.38419998, -0.0073079 ,\n",
       "        0.65100002, -0.33958   , -0.19785   , -0.33925   ,  0.26690999,\n",
       "       -0.033062  ,  0.15915   ,  0.89547002,  0.53999001, -0.55817002,\n",
       "        0.46245   ,  0.36722001,  0.18889999,  0.83188999,  0.81421   ,\n",
       "       -0.11835   , -0.53463   ,  0.24157999, -0.038864  ,  1.19070005,\n",
       "        0.79352999, -0.12308   ,  0.66420001, -0.77618998, -0.45713001,\n",
       "       -1.05400002, -0.20557   , -0.13296001,  0.12239   ,  0.88458002,\n",
       "        1.02400005,  0.32288   ,  0.82104999, -0.069367  ,  0.024211  ,\n",
       "       -0.51418   ,  0.87269998,  0.25759   ,  0.91526002, -0.64221001,\n",
       "        0.041159  , -0.60207999,  0.54631001,  0.66075999,  0.19796   ,\n",
       "       -1.13929999,  0.79514003,  0.45965999, -0.18463001, -0.64130998,\n",
       "       -0.24929   , -0.40193999, -0.50786   ,  0.80579001,  0.53364998,\n",
       "        0.52732003,  0.39247   , -0.29883999,  0.009585  ,  0.99953002,\n",
       "       -0.061279  ,  0.71935999,  0.32901001, -0.052772  ,  0.67135   ,\n",
       "       -0.80251002, -0.25788999,  0.49614999,  0.48080999, -0.68403   ,\n",
       "       -0.012239  ,  0.048201  ,  0.29460999,  0.20614   ,  0.33555999,\n",
       "       -0.64166999, -0.64708   ,  0.13377   , -0.12574001, -0.46382001,\n",
       "        1.38779998,  0.95635998, -0.067869  , -0.0017411 ,  0.52964997,\n",
       "        0.45668   ,  0.61040998, -0.11514   ,  0.42627001,  0.17342   ,\n",
       "       -0.79949999, -0.24502   , -0.60886002, -0.38468999, -0.4797    ], dtype=float32)"
      ]
     },
     "execution_count": 22,
     "metadata": {},
     "output_type": "execute_result"
    }
   ],
   "source": [
    "vecs[wordidx['python']]"
   ]
  },
  {
   "cell_type": "code",
   "execution_count": 23,
   "metadata": {
    "collapsed": true
   },
   "outputs": [],
   "source": [
    "def cosine_angle(x,y):\n",
    "    return sum(x*y)/np.linalg.norm(x)/np.linalg.norm(y)"
   ]
  },
  {
   "cell_type": "code",
   "execution_count": 24,
   "metadata": {},
   "outputs": [
    {
     "data": {
      "text/plain": [
       "6075"
      ]
     },
     "execution_count": 24,
     "metadata": {},
     "output_type": "execute_result"
    }
   ],
   "source": [
    "wordidx['mom']"
   ]
  },
  {
   "cell_type": "code",
   "execution_count": 25,
   "metadata": {},
   "outputs": [
    {
     "data": {
      "text/plain": [
       "808"
      ]
     },
     "execution_count": 25,
     "metadata": {},
     "output_type": "execute_result"
    }
   ],
   "source": [
    "wordidx['mother']"
   ]
  },
  {
   "cell_type": "code",
   "execution_count": 27,
   "metadata": {},
   "outputs": [
    {
     "data": {
      "text/plain": [
       "0.86566615869991792"
      ]
     },
     "execution_count": 27,
     "metadata": {},
     "output_type": "execute_result"
    }
   ],
   "source": [
    "cosine_angle(vecs[wordidx['father']],vecs[wordidx['mother']])"
   ]
  },
  {
   "cell_type": "code",
   "execution_count": 28,
   "metadata": {},
   "outputs": [
    {
     "data": {
      "text/plain": [
       "0.31497272673471055"
      ]
     },
     "execution_count": 28,
     "metadata": {},
     "output_type": "execute_result"
    }
   ],
   "source": [
    "cosine_angle(2*vecs[wordidx['new']],vecs[wordidx['antique']])"
   ]
  },
  {
   "cell_type": "code",
   "execution_count": null,
   "metadata": {
    "collapsed": true
   },
   "outputs": [],
   "source": []
  }
 ],
 "metadata": {
  "kernelspec": {
   "display_name": "Python 3",
   "language": "python",
   "name": "python3"
  },
  "language_info": {
   "codemirror_mode": {
    "name": "ipython",
    "version": 3
   },
   "file_extension": ".py",
   "mimetype": "text/x-python",
   "name": "python",
   "nbconvert_exporter": "python",
   "pygments_lexer": "ipython3",
   "version": "3.6.1"
  }
 },
 "nbformat": 4,
 "nbformat_minor": 2
}
